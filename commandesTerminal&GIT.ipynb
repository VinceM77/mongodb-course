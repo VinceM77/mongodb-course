{
 "cells": [
  {
   "cell_type": "markdown",
   "metadata": {},
   "source": [
    "### commandes terminal"
   ]
  },
  {
   "cell_type": "markdown",
   "metadata": {},
   "source": [
    "LS => lister les fichiers & dossiers "
   ]
  },
  {
   "cell_type": "markdown",
   "metadata": {},
   "source": [
    "CD + < path> (change directory)  => aller dans un dossier "
   ]
  },
  {
   "cell_type": "markdown",
   "metadata": {},
   "source": [
    "CD. ou CD.. => retourner dans le dossier parent"
   ]
  },
  {
   "cell_type": "markdown",
   "metadata": {},
   "source": [
    "LS -la  => afficher tout"
   ]
  },
  {
   "cell_type": "markdown",
   "metadata": {},
   "source": [
    "PWD => où suis-je?"
   ]
  },
  {
   "cell_type": "markdown",
   "metadata": {},
   "source": [
    "TREE => afficher l'arborescence de là où l'on se trouve "
   ]
  },
  {
   "cell_type": "markdown",
   "metadata": {},
   "source": [
    "CAT< fichier> => écrit le contenu du fichier\n"
   ]
  },
  {
   "cell_type": "markdown",
   "metadata": {},
   "source": [
    "### GIT"
   ]
  },
  {
   "cell_type": "markdown",
   "metadata": {},
   "source": [
    "Git add . => ajouter\n"
   ]
  },
  {
   "cell_type": "markdown",
   "metadata": {},
   "source": [
    "Git commit -m \"message\" => sauvegarde localement dans un style de \"ZIP\""
   ]
  },
  {
   "cell_type": "markdown",
   "metadata": {},
   "source": [
    "Git push => ça envoie le commit en ligne sur github"
   ]
  },
  {
   "cell_type": "markdown",
   "metadata": {},
   "source": [
    "Git commit  -amend => rajoute des changements au commit précédent avant le push\n",
    "\n",
    "si après \n",
    "\n",
    "Git push --force-with-lease corrige le push si il y a une erreur (resync local & en ligne)"
   ]
  }
 ],
 "metadata": {
  "language_info": {
   "name": "python"
  },
  "orig_nbformat": 4
 },
 "nbformat": 4,
 "nbformat_minor": 2
}
